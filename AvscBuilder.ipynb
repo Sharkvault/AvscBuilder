{
  "nbformat": 4,
  "nbformat_minor": 0,
  "metadata": {
    "colab": {
      "provenance": [],
      "include_colab_link": true
    },
    "kernelspec": {
      "name": "python3",
      "display_name": "Python 3"
    },
    "language_info": {
      "name": "python"
    }
  },
  "cells": [
    {
      "cell_type": "markdown",
      "metadata": {
        "id": "view-in-github",
        "colab_type": "text"
      },
      "source": [
        "<a href=\"https://colab.research.google.com/github/Sharkvault/AvscBuilder/blob/main/AvscBuilder.ipynb\" target=\"_parent\"><img src=\"https://colab.research.google.com/assets/colab-badge.svg\" alt=\"Open In Colab\"/></a>"
      ]
    },
    {
      "cell_type": "markdown",
      "source": [
        "# Avsc Builder\n",
        "The avsc oprojet is used to dynamically generate avro schemas based on certain information. Normally we can say get csv contianing tables and based on that gfo build a schema.\n"
      ],
      "metadata": {
        "id": "6u6mu1HnPrAc"
      }
    },
    {
      "cell_type": "code",
      "source": [
        "# import everything\n",
        "from logging import Logger, FileHandler\n",
        "from pathlib import Path\n",
        "from re import compile, escape\n",
        "from typing import Union, List\n",
        "from pandas import read_csv"
      ],
      "metadata": {
        "id": "BEsZ5jKePDas"
      },
      "execution_count": null,
      "outputs": []
    },
    {
      "cell_type": "code",
      "source": [
        "# Create a logger\n",
        "logger = Logger(\"me\")"
      ],
      "metadata": {
        "id": "E-Mk3kT1PGNc"
      },
      "execution_count": null,
      "outputs": []
    },
    {
      "cell_type": "code",
      "source": [
        "# Create file finder\n",
        "\n",
        "def find_files(\n",
        "    root_dir:Union[str,Path],\n",
        "    regex_file_name_pattern:str,\n",
        "    file_format:str=\"csv\"\n",
        "    ) -> List[Path]:\n",
        "  \"\"\"\n",
        "    Using a specific directory traverse the directory\n",
        "    and find all files ending with a specifc file format\n",
        "    Each of those found files need to be valid regarding some pattern\n",
        "\n",
        "    Args:\n",
        "\n",
        "\n",
        "    Raises:\n",
        "\n",
        "\n",
        "    Returns:\n",
        "      List of file paths\n",
        "\n",
        "  \"\"\"\n",
        "  if isinstance(root_dir,str):\n",
        "    root_dir = Path(root_dir)\n",
        "  if not root_dir.exists():\n",
        "    err_msg = f\"The root directory {str(root_dir)} does not exist\"\n",
        "    logger.error(err_msg)\n",
        "    raise FileNotFoundError(err_msg)\n",
        "  if not root_dir.is_dir():\n",
        "    err_msg = f\"{root_dir} is not a directoy\"\n",
        "    logger.error(err_msg)\n",
        "    raise NotADirectoryError(err_msg)\n",
        "\n",
        "  pattern = compile(rf\"{regex_file_name_pattern}.*\\.{file_format}$\")\n",
        "  found_files:List[Path] = []\n",
        "  for found_file in root_dir.rglob(f\"*.{file_format}\"):\n",
        "    if pattern.search(found_file.name):\n",
        "      found_files.append(found_file)\n",
        "\n",
        "  return found_files\n",
        "\n"
      ],
      "metadata": {
        "id": "8mrIr4y1QI97"
      },
      "execution_count": null,
      "outputs": []
    },
    {
      "cell_type": "code",
      "source": [
        "db2_to_avro = {\n",
        "    'decimal': 'decimal',\n",
        "    'numeric': 'decimal',\n",
        "    'char': 'string',\n",
        "    'int': 'int',\n",
        "    'boolean': 'boolean',\n",
        "    'date': 'date',\n",
        "    'timestamp': 'timestamp'\n",
        "}\n",
        "\n",
        "def map_to_avro(df, db_type):\n",
        "    factory = {\"db2\": db2_to_avro}\n",
        "    df['avrotype'] = df['datatype'].map(db2_to_avro)\n",
        "    return df\n"
      ],
      "metadata": {
        "id": "q1V4TBRvPIzf"
      },
      "execution_count": null,
      "outputs": []
    },
    {
      "cell_type": "code",
      "source": [
        "\n",
        "def build(df):\n",
        "  df = map_to_avro(df=df,db_type=\"db2\")\n",
        "  df[\"avrotype\"].fillna(\"string\", inplace=True)\n",
        "  avro_fields = []\n",
        "  for index, row in df.iterrows():\n",
        "      avro_data_type = row['avrotype']\n",
        "\n",
        "      if avro_data_type == 'decimal':\n",
        "          avro_type = {\n",
        "              'type': 'bytes',\n",
        "              'logicalType': 'decimal',\n",
        "              'precision': 38,\n",
        "              'scale': 18\n",
        "          }\n",
        "      elif avro_data_type == 'int':\n",
        "          avro_type = {\n",
        "              'type': 'bytes',\n",
        "              'logicalType': 'decimal',\n",
        "              'precision': 38,\n",
        "              'scale': 0\n",
        "          }\n",
        "      else:\n",
        "          avro_type = 'string'\n",
        "\n",
        "      avro_field = {\n",
        "          'name': row['fieldname'],\n",
        "          'type': [avro_type, 'null']\n",
        "      }\n",
        "      avro_fields.append(avro_field)\n",
        "  avro_schema = {\n",
        "        \" type \" : \"record\",\n",
        "        \" namespace \" : \"Tutorialspoint\",\n",
        "        \" name \" : \"myBanantest\", # HARDCODE HERE\n",
        "        \" fields \" : avro_fields\n",
        "      }\n",
        "  return avro_schema\n"
      ],
      "metadata": {
        "id": "NSndmHyaft15"
      },
      "execution_count": null,
      "outputs": []
    },
    {
      "cell_type": "code",
      "source": [
        "def write_back(avro_schema:str,file_path:Path, file_name:str, file_format:str):\n",
        "  pass\n",
        "\n",
        "def lower_columns(df):\n",
        "  for column in df.columns:\n",
        "    df[column] = df[column].apply(lambda val: val.lower() if isinstance(val,str) else val)\n",
        "  return df\n",
        "\n",
        "for i in find_files(root_dir=\"./top\",file_format=\"csv\",regex_file_name_pattern=\"test\"):\n",
        "  df = read_csv(i)\n",
        "  df.columns = df.columns.str.lower()\n",
        "\n",
        "  df = lower_columns(df)\n",
        "  avsc = build(df)\n",
        "  print(avsc)"
      ],
      "metadata": {
        "colab": {
          "base_uri": "https://localhost:8080/"
        },
        "id": "jIrvId0tZK2K",
        "outputId": "cebda593-8784-499f-c7d6-cb17a8c8189e"
      },
      "execution_count": null,
      "outputs": [
        {
          "output_type": "stream",
          "name": "stdout",
          "text": [
            "[{'name': 'aaa', 'type': [{'type': 'bytes', 'logicalType': 'decimal', 'precision': 38, 'scale': 18}, 'null']}, {'name': 'bbb', 'type': [{'type': 'bytes', 'logicalType': 'decimal', 'precision': 38, 'scale': 18}, 'null']}, {'name': 'cccccccccccccccccccccccccccc', 'type': [{'type': 'bytes', 'logicalType': 'decimal', 'precision': 38, 'scale': 18}, 'null']}, {'name': 'dddddddddddddddddddddddddddddd', 'type': ['string', 'null']}, {'name': 'julian', 'type': ['string', 'null']}, {'name': 'srikar', 'type': ['string', 'null']}, {'name': 'other', 'type': ['string', 'null']}, {'name': 'eating', 'type': ['string', 'null']}, {'name': 'dancing', 'type': ['string', 'null']}]\n"
          ]
        }
      ]
    }
  ]
}